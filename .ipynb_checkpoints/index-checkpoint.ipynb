{
 "cells": [
  {
   "cell_type": "code",
   "execution_count": 1,
   "metadata": {},
   "outputs": [],
   "source": [
    "# importing requisite libraries\n",
    "import pandas as pd\n",
    "import numpy as np\n",
    "import matplotlib.pyplot as plt\n",
    "import seaborn as sns\n",
    "\n",
    "# Enable inline rendering of matplotlib plots\n",
    "%matplotlib inline"
   ]
  },
  {
   "cell_type": "code",
   "execution_count": 2,
   "metadata": {},
   "outputs": [
    {
     "name": "stdout",
     "output_type": "stream",
     "text": [
      "   Order        PID  MS SubClass MS Zoning  Lot Frontage  Lot Area Street  \\\n",
      "0      1  526301100           20        RL         141.0     31770   Pave   \n",
      "1      2  526350040           20        RH          80.0     11622   Pave   \n",
      "2      3  526351010           20        RL          81.0     14267   Pave   \n",
      "3      4  526353030           20        RL          93.0     11160   Pave   \n",
      "4      5  527105010           60        RL          74.0     13830   Pave   \n",
      "\n",
      "  Alley Lot Shape Land Contour  ... Pool Area Pool QC  Fence Misc Feature  \\\n",
      "0   NaN       IR1          Lvl  ...         0     NaN    NaN          NaN   \n",
      "1   NaN       Reg          Lvl  ...         0     NaN  MnPrv          NaN   \n",
      "2   NaN       IR1          Lvl  ...         0     NaN    NaN         Gar2   \n",
      "3   NaN       Reg          Lvl  ...         0     NaN    NaN          NaN   \n",
      "4   NaN       IR1          Lvl  ...         0     NaN  MnPrv          NaN   \n",
      "\n",
      "  Misc Val Mo Sold Yr Sold Sale Type  Sale Condition  SalePrice  \n",
      "0        0       5    2010       WD           Normal     215000  \n",
      "1        0       6    2010       WD           Normal     105000  \n",
      "2    12500       6    2010       WD           Normal     172000  \n",
      "3        0       4    2010       WD           Normal     244000  \n",
      "4        0       3    2010       WD           Normal     189900  \n",
      "\n",
      "[5 rows x 82 columns]\n",
      "      Order        PID  MS SubClass MS Zoning  Lot Frontage  Lot Area Street  \\\n",
      "2925   2926  923275080           80        RL          37.0      7937   Pave   \n",
      "2926   2927  923276100           20        RL           NaN      8885   Pave   \n",
      "2927   2928  923400125           85        RL          62.0     10441   Pave   \n",
      "2928   2929  924100070           20        RL          77.0     10010   Pave   \n",
      "2929   2930  924151050           60        RL          74.0      9627   Pave   \n",
      "\n",
      "     Alley Lot Shape Land Contour  ... Pool Area Pool QC  Fence Misc Feature  \\\n",
      "2925   NaN       IR1          Lvl  ...         0     NaN  GdPrv          NaN   \n",
      "2926   NaN       IR1          Low  ...         0     NaN  MnPrv          NaN   \n",
      "2927   NaN       Reg          Lvl  ...         0     NaN  MnPrv         Shed   \n",
      "2928   NaN       Reg          Lvl  ...         0     NaN    NaN          NaN   \n",
      "2929   NaN       Reg          Lvl  ...         0     NaN    NaN          NaN   \n",
      "\n",
      "     Misc Val Mo Sold Yr Sold Sale Type  Sale Condition  SalePrice  \n",
      "2925        0       3    2006       WD           Normal     142500  \n",
      "2926        0       6    2006       WD           Normal     131000  \n",
      "2927      700       7    2006       WD           Normal     132000  \n",
      "2928        0       4    2006       WD           Normal     170000  \n",
      "2929        0      11    2006       WD           Normal     188000  \n",
      "\n",
      "[5 rows x 82 columns]\n"
     ]
    }
   ],
   "source": [
    "# reading and parsing csv data into a pandas dataframe\n",
    "df = pd.read_csv(\"./AmesHousing.csv\", header=0)\n",
    "\n",
    "# inspecting the first and last 5 items in the dataframe\n",
    "print(df.head(5))\n",
    "print(df.tail(5))"
   ]
  },
  {
   "cell_type": "code",
   "execution_count": null,
   "metadata": {},
   "outputs": [],
   "source": []
  }
 ],
 "metadata": {
  "kernelspec": {
   "display_name": "learn-env",
   "language": "python",
   "name": "python3"
  },
  "language_info": {
   "codemirror_mode": {
    "name": "ipython",
    "version": 3
   },
   "file_extension": ".py",
   "mimetype": "text/x-python",
   "name": "python",
   "nbconvert_exporter": "python",
   "pygments_lexer": "ipython3",
   "version": "3.8.5"
  },
  "orig_nbformat": 4
 },
 "nbformat": 4,
 "nbformat_minor": 2
}
